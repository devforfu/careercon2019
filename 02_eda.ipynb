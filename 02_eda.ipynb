{
 "cells": [
  {
   "cell_type": "code",
   "execution_count": 1,
   "metadata": {},
   "outputs": [],
   "source": [
    "%matplotlib inline\n",
    "%reload_ext autoreload\n",
    "%autoreload 2"
   ]
  },
  {
   "cell_type": "code",
   "execution_count": 147,
   "metadata": {},
   "outputs": [],
   "source": [
    "import matplotlib.pyplot as plt\n",
    "import seaborn as sns\n",
    "from matplotlib import rcParams\n",
    "from matplotlib import patches"
   ]
  },
  {
   "cell_type": "code",
   "execution_count": 3,
   "metadata": {},
   "outputs": [],
   "source": [
    "from utils import from_feather"
   ]
  },
  {
   "cell_type": "code",
   "execution_count": 70,
   "metadata": {},
   "outputs": [],
   "source": [
    "rcParams['figure.figsize'] = (10, 8)\n",
    "rcParams['font.size'] = 16"
   ]
  },
  {
   "cell_type": "code",
   "execution_count": 4,
   "metadata": {},
   "outputs": [],
   "source": [
    "x_trn, y_trn, x_tst = from_feather('x_trn', 'y_trn', 'x_tst')"
   ]
  },
  {
   "cell_type": "code",
   "execution_count": 6,
   "metadata": {},
   "outputs": [
    {
     "data": {
      "text/html": [
       "<div>\n",
       "<style scoped>\n",
       "    .dataframe tbody tr th:only-of-type {\n",
       "        vertical-align: middle;\n",
       "    }\n",
       "\n",
       "    .dataframe tbody tr th {\n",
       "        vertical-align: top;\n",
       "    }\n",
       "\n",
       "    .dataframe thead th {\n",
       "        text-align: right;\n",
       "    }\n",
       "</style>\n",
       "<table border=\"1\" class=\"dataframe\">\n",
       "  <thead>\n",
       "    <tr style=\"text-align: right;\">\n",
       "      <th></th>\n",
       "      <th>series_id</th>\n",
       "      <th>measurement_number</th>\n",
       "      <th>orientation_X</th>\n",
       "      <th>orientation_Y</th>\n",
       "      <th>orientation_Z</th>\n",
       "      <th>orientation_W</th>\n",
       "      <th>angular_velocity_X</th>\n",
       "      <th>angular_velocity_Y</th>\n",
       "      <th>angular_velocity_Z</th>\n",
       "      <th>linear_acceleration_X</th>\n",
       "      <th>linear_acceleration_Y</th>\n",
       "      <th>linear_acceleration_Z</th>\n",
       "    </tr>\n",
       "  </thead>\n",
       "  <tbody>\n",
       "    <tr>\n",
       "      <th>191332</th>\n",
       "      <td>1494</td>\n",
       "      <td>100</td>\n",
       "      <td>0.97293</td>\n",
       "      <td>0.17561</td>\n",
       "      <td>0.034416</td>\n",
       "      <td>0.146210</td>\n",
       "      <td>0.037585</td>\n",
       "      <td>-0.033739</td>\n",
       "      <td>-0.012073</td>\n",
       "      <td>-1.35990</td>\n",
       "      <td>3.64250</td>\n",
       "      <td>-8.940800</td>\n",
       "    </tr>\n",
       "    <tr>\n",
       "      <th>241900</th>\n",
       "      <td>1889</td>\n",
       "      <td>108</td>\n",
       "      <td>-0.79215</td>\n",
       "      <td>0.59137</td>\n",
       "      <td>0.085425</td>\n",
       "      <td>-0.124440</td>\n",
       "      <td>-0.024444</td>\n",
       "      <td>0.085415</td>\n",
       "      <td>-0.486990</td>\n",
       "      <td>0.21283</td>\n",
       "      <td>2.52390</td>\n",
       "      <td>-9.045100</td>\n",
       "    </tr>\n",
       "    <tr>\n",
       "      <th>271158</th>\n",
       "      <td>2118</td>\n",
       "      <td>54</td>\n",
       "      <td>0.47907</td>\n",
       "      <td>-0.86492</td>\n",
       "      <td>-0.126870</td>\n",
       "      <td>0.079406</td>\n",
       "      <td>-0.170420</td>\n",
       "      <td>-0.017242</td>\n",
       "      <td>0.082819</td>\n",
       "      <td>2.75660</td>\n",
       "      <td>9.24220</td>\n",
       "      <td>-6.121400</td>\n",
       "    </tr>\n",
       "    <tr>\n",
       "      <th>260470</th>\n",
       "      <td>2034</td>\n",
       "      <td>118</td>\n",
       "      <td>-0.41608</td>\n",
       "      <td>0.89622</td>\n",
       "      <td>0.137320</td>\n",
       "      <td>-0.069362</td>\n",
       "      <td>-0.044109</td>\n",
       "      <td>0.127110</td>\n",
       "      <td>-0.272980</td>\n",
       "      <td>4.10140</td>\n",
       "      <td>-0.75034</td>\n",
       "      <td>-18.648001</td>\n",
       "    </tr>\n",
       "    <tr>\n",
       "      <th>253466</th>\n",
       "      <td>1980</td>\n",
       "      <td>26</td>\n",
       "      <td>0.65157</td>\n",
       "      <td>-0.74970</td>\n",
       "      <td>-0.079804</td>\n",
       "      <td>0.083846</td>\n",
       "      <td>-0.044180</td>\n",
       "      <td>-0.004737</td>\n",
       "      <td>0.047499</td>\n",
       "      <td>0.39523</td>\n",
       "      <td>1.09250</td>\n",
       "      <td>-11.080000</td>\n",
       "    </tr>\n",
       "  </tbody>\n",
       "</table>\n",
       "</div>"
      ],
      "text/plain": [
       "        series_id  measurement_number  orientation_X  orientation_Y  \\\n",
       "191332       1494                 100        0.97293        0.17561   \n",
       "241900       1889                 108       -0.79215        0.59137   \n",
       "271158       2118                  54        0.47907       -0.86492   \n",
       "260470       2034                 118       -0.41608        0.89622   \n",
       "253466       1980                  26        0.65157       -0.74970   \n",
       "\n",
       "        orientation_Z  orientation_W  angular_velocity_X  angular_velocity_Y  \\\n",
       "191332       0.034416       0.146210            0.037585           -0.033739   \n",
       "241900       0.085425      -0.124440           -0.024444            0.085415   \n",
       "271158      -0.126870       0.079406           -0.170420           -0.017242   \n",
       "260470       0.137320      -0.069362           -0.044109            0.127110   \n",
       "253466      -0.079804       0.083846           -0.044180           -0.004737   \n",
       "\n",
       "        angular_velocity_Z  linear_acceleration_X  linear_acceleration_Y  \\\n",
       "191332           -0.012073               -1.35990                3.64250   \n",
       "241900           -0.486990                0.21283                2.52390   \n",
       "271158            0.082819                2.75660                9.24220   \n",
       "260470           -0.272980                4.10140               -0.75034   \n",
       "253466            0.047499                0.39523                1.09250   \n",
       "\n",
       "        linear_acceleration_Z  \n",
       "191332              -8.940800  \n",
       "241900              -9.045100  \n",
       "271158              -6.121400  \n",
       "260470             -18.648001  \n",
       "253466             -11.080000  "
      ]
     },
     "execution_count": 6,
     "metadata": {},
     "output_type": "execute_result"
    }
   ],
   "source": [
    "x_trn.sample(5)"
   ]
  },
  {
   "cell_type": "code",
   "execution_count": 7,
   "metadata": {},
   "outputs": [
    {
     "data": {
      "text/html": [
       "<div>\n",
       "<style scoped>\n",
       "    .dataframe tbody tr th:only-of-type {\n",
       "        vertical-align: middle;\n",
       "    }\n",
       "\n",
       "    .dataframe tbody tr th {\n",
       "        vertical-align: top;\n",
       "    }\n",
       "\n",
       "    .dataframe thead th {\n",
       "        text-align: right;\n",
       "    }\n",
       "</style>\n",
       "<table border=\"1\" class=\"dataframe\">\n",
       "  <thead>\n",
       "    <tr style=\"text-align: right;\">\n",
       "      <th></th>\n",
       "      <th>series_id</th>\n",
       "      <th>group_id</th>\n",
       "      <th>surface</th>\n",
       "    </tr>\n",
       "  </thead>\n",
       "  <tbody>\n",
       "    <tr>\n",
       "      <th>3357</th>\n",
       "      <td>3357</td>\n",
       "      <td>61</td>\n",
       "      <td>concrete</td>\n",
       "    </tr>\n",
       "    <tr>\n",
       "      <th>1465</th>\n",
       "      <td>1465</td>\n",
       "      <td>35</td>\n",
       "      <td>fine_concrete</td>\n",
       "    </tr>\n",
       "    <tr>\n",
       "      <th>73</th>\n",
       "      <td>73</td>\n",
       "      <td>34</td>\n",
       "      <td>soft_pvc</td>\n",
       "    </tr>\n",
       "    <tr>\n",
       "      <th>266</th>\n",
       "      <td>266</td>\n",
       "      <td>19</td>\n",
       "      <td>soft_pvc</td>\n",
       "    </tr>\n",
       "    <tr>\n",
       "      <th>1468</th>\n",
       "      <td>1468</td>\n",
       "      <td>21</td>\n",
       "      <td>soft_tiles</td>\n",
       "    </tr>\n",
       "  </tbody>\n",
       "</table>\n",
       "</div>"
      ],
      "text/plain": [
       "      series_id  group_id        surface\n",
       "3357       3357        61       concrete\n",
       "1465       1465        35  fine_concrete\n",
       "73           73        34       soft_pvc\n",
       "266         266        19       soft_pvc\n",
       "1468       1468        21     soft_tiles"
      ]
     },
     "execution_count": 7,
     "metadata": {},
     "output_type": "execute_result"
    }
   ],
   "source": [
    "y_trn.sample(5)"
   ]
  },
  {
   "cell_type": "code",
   "execution_count": 53,
   "metadata": {},
   "outputs": [],
   "source": [
    "freq = (y_trn.surface\n",
    " .value_counts(normalize=True)\n",
    " .rename('freq')\n",
    " .reset_index()\n",
    " .rename(columns={'index': 'surface'}))"
   ]
  },
  {
   "cell_type": "code",
   "execution_count": 54,
   "metadata": {},
   "outputs": [
    {
     "data": {
      "text/html": [
       "<div>\n",
       "<style scoped>\n",
       "    .dataframe tbody tr th:only-of-type {\n",
       "        vertical-align: middle;\n",
       "    }\n",
       "\n",
       "    .dataframe tbody tr th {\n",
       "        vertical-align: top;\n",
       "    }\n",
       "\n",
       "    .dataframe thead th {\n",
       "        text-align: right;\n",
       "    }\n",
       "</style>\n",
       "<table border=\"1\" class=\"dataframe\">\n",
       "  <thead>\n",
       "    <tr style=\"text-align: right;\">\n",
       "      <th></th>\n",
       "      <th>surface</th>\n",
       "      <th>freq</th>\n",
       "    </tr>\n",
       "  </thead>\n",
       "  <tbody>\n",
       "    <tr>\n",
       "      <th>0</th>\n",
       "      <td>concrete</td>\n",
       "      <td>0.204462</td>\n",
       "    </tr>\n",
       "    <tr>\n",
       "      <th>1</th>\n",
       "      <td>soft_pvc</td>\n",
       "      <td>0.192126</td>\n",
       "    </tr>\n",
       "    <tr>\n",
       "      <th>2</th>\n",
       "      <td>wood</td>\n",
       "      <td>0.159318</td>\n",
       "    </tr>\n",
       "    <tr>\n",
       "      <th>3</th>\n",
       "      <td>tiled</td>\n",
       "      <td>0.134908</td>\n",
       "    </tr>\n",
       "    <tr>\n",
       "      <th>4</th>\n",
       "      <td>fine_concrete</td>\n",
       "      <td>0.095276</td>\n",
       "    </tr>\n",
       "    <tr>\n",
       "      <th>5</th>\n",
       "      <td>hard_tiles_large_space</td>\n",
       "      <td>0.080840</td>\n",
       "    </tr>\n",
       "    <tr>\n",
       "      <th>6</th>\n",
       "      <td>soft_tiles</td>\n",
       "      <td>0.077953</td>\n",
       "    </tr>\n",
       "    <tr>\n",
       "      <th>7</th>\n",
       "      <td>carpet</td>\n",
       "      <td>0.049606</td>\n",
       "    </tr>\n",
       "    <tr>\n",
       "      <th>8</th>\n",
       "      <td>hard_tiles</td>\n",
       "      <td>0.005512</td>\n",
       "    </tr>\n",
       "  </tbody>\n",
       "</table>\n",
       "</div>"
      ],
      "text/plain": [
       "                  surface      freq\n",
       "0                concrete  0.204462\n",
       "1                soft_pvc  0.192126\n",
       "2                    wood  0.159318\n",
       "3                   tiled  0.134908\n",
       "4           fine_concrete  0.095276\n",
       "5  hard_tiles_large_space  0.080840\n",
       "6              soft_tiles  0.077953\n",
       "7                  carpet  0.049606\n",
       "8              hard_tiles  0.005512"
      ]
     },
     "execution_count": 54,
     "metadata": {},
     "output_type": "execute_result"
    }
   ],
   "source": [
    "freq"
   ]
  },
  {
   "cell_type": "code",
   "execution_count": 71,
   "metadata": {},
   "outputs": [
    {
     "data": {
      "image/png": "[encoded data removed]",
      "text/plain": [
       "<Figure size 720x576 with 1 Axes>"
      ]
     },
     "metadata": {
      "needs_background": "light"
     },
     "output_type": "display_data"
    }
   ],
   "source": [
    "ax = sns.barplot(x='freq', y='surface', color='steelblue', data=freq)"
   ]
  },
  {
   "cell_type": "code",
   "execution_count": 163,
   "metadata": {},
   "outputs": [],
   "source": [
    "cnt = (y_trn\n",
    "       .groupby('group_id')\n",
    "       .surface\n",
    "       .value_counts()\n",
    "       .rename('count')\n",
    "       .reset_index()\n",
    "       .sort_values(by='surface'))"
   ]
  },
  {
   "cell_type": "code",
   "execution_count": 164,
   "metadata": {},
   "outputs": [],
   "source": [
    "group, surface, count = cnt['group_id'], cnt['surface'], cnt['count']"
   ]
  },
  {
   "cell_type": "code",
   "execution_count": 165,
   "metadata": {},
   "outputs": [],
   "source": [
    "xs = list(range(len(cnt)))"
   ]
  },
  {
   "cell_type": "code",
   "execution_count": 166,
   "metadata": {},
   "outputs": [],
   "source": [
    "uniq_surf = set(surface)\n",
    "pal = sns.color_palette(n_colors=len(uniq_surf))\n",
    "colors_map = dict(zip(uniq_surf, pal))\n",
    "colors = [colors_map[surf] for surf in surface]"
   ]
  },
  {
   "cell_type": "code",
   "execution_count": 169,
   "metadata": {},
   "outputs": [
    {
     "data": {
      "image/png": "[encoded data removed]",
      "text/plain": [
       "<Figure size 1008x720 with 1 Axes>"
      ]
     },
     "metadata": {
      "needs_background": "light"
     },
     "output_type": "display_data"
    }
   ],
   "source": [
    "f, ax = plt.subplots(1, 1, figsize=(14, 10))\n",
    "ax.bar(x=xs, height=count, color=colors)\n",
    "ax.legend(\n",
    "    loc='center left',\n",
    "    bbox_to_anchor=(1, 0.5),\n",
    "    handles=[patches.Patch(color=c, label=s) for s, c in colors_map.items()])\n",
    "ax.set_xlabel('Group ID')\n",
    "ax.set_ylabel('Count')\n",
    "_ = ax.set_title('Number of measurements for each category per group')"
   ]
  },
  {
   "cell_type": "code",
   "execution_count": null,
   "metadata": {},
   "outputs": [],
   "source": []
  }
 ],
 "metadata": {
  "kernelspec": {
   "display_name": "Python 3",
   "language": "python",
   "name": "python3"
  },
  "language_info": {
   "codemirror_mode": {
    "name": "ipython",
    "version": 3
   },
   "file_extension": ".py",
   "mimetype": "text/x-python",
   "name": "python",
   "nbconvert_exporter": "python",
   "pygments_lexer": "ipython3",
   "version": "3.7.1"
  },
  "toc": {
   "base_numbering": 1,
   "nav_menu": {},
   "number_sections": true,
   "sideBar": true,
   "skip_h1_title": false,
   "title_cell": "Table of Contents",
   "title_sidebar": "Contents",
   "toc_cell": false,
   "toc_position": {},
   "toc_section_display": true,
   "toc_window_display": false
  }
 },
 "nbformat": 4,
 "nbformat_minor": 2
}

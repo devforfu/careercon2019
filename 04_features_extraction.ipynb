{
 "cells": [
  {
   "cell_type": "code",
   "execution_count": 1,
   "metadata": {},
   "outputs": [],
   "source": [
    "%reload_ext autoreload\n",
    "%autoreload 2"
   ]
  },
  {
   "cell_type": "code",
   "execution_count": 2,
   "metadata": {},
   "outputs": [],
   "source": [
    "import warnings\n",
    "def noop(*args, **kwargs): pass\n",
    "warnings.warn = noop"
   ]
  },
  {
   "cell_type": "code",
   "execution_count": 3,
   "metadata": {},
   "outputs": [],
   "source": [
    "from collections import ChainMap\n",
    "from multiprocessing import cpu_count"
   ]
  },
  {
   "cell_type": "code",
   "execution_count": 4,
   "metadata": {},
   "outputs": [],
   "source": [
    "from IPython.display import display\n",
    "import lightgbm as lgb\n",
    "import matplotlib.pyplot as plt\n",
    "import numpy as np\n",
    "import pandas as pd\n",
    "from sklearn.preprocessing import LabelEncoder\n",
    "from sklearn.externals.joblib import Parallel, delayed\n",
    "from sklearn.model_selection import train_test_split, StratifiedKFold\n",
    "from tsfresh import extract_features, extract_relevant_features\n",
    "from tqdm import tqdm_notebook as tqdm"
   ]
  },
  {
   "cell_type": "code",
   "execution_count": 24,
   "metadata": {},
   "outputs": [],
   "source": [
    "from basedir import SAMPLE\n",
    "from utils import from_feather, to_feather, kfolds"
   ]
  },
  {
   "cell_type": "code",
   "execution_count": 6,
   "metadata": {},
   "outputs": [],
   "source": [
    "seed = 1\n",
    "np.random.seed(seed)"
   ]
  },
  {
   "cell_type": "code",
   "execution_count": 7,
   "metadata": {},
   "outputs": [],
   "source": [
    "x_trn, y_trn, x_tst = from_feather('x_trn', 'y_trn', 'x_tst')"
   ]
  },
  {
   "cell_type": "code",
   "execution_count": 8,
   "metadata": {},
   "outputs": [],
   "source": [
    "from tsfresh.feature_extraction.feature_calculators import (\n",
    "    mean, median, standard_deviation, variance, skewness, kurtosis,\n",
    "    mean_abs_change, mean_change, mean_second_derivative_central, \n",
    "    quantile, autocorrelation, agg_autocorrelation, partial_autocorrelation,\n",
    "    abs_energy, count_above_mean, count_below_mean, maximum, minimum,\n",
    "    first_location_of_minimum, first_location_of_maximum, linear_trend,\n",
    "    sample_entropy, c3, \n",
    "    longest_strike_below_mean, longest_strike_above_mean, \n",
    "    number_peaks, sum_of_reoccurring_data_points, sum_values,\n",
    "    large_standard_deviation,\n",
    "    number_crossing_m, value_count, range_count,\n",
    ")"
   ]
  },
  {
   "cell_type": "code",
   "execution_count": 9,
   "metadata": {},
   "outputs": [],
   "source": [
    "def stat(f, **params):\n",
    "    def wrapper(x):\n",
    "        return f(x, **params)\n",
    "    wrapper.__name__ = f.__name__\n",
    "    return wrapper"
   ]
  },
  {
   "cell_type": "code",
   "execution_count": 10,
   "metadata": {},
   "outputs": [],
   "source": [
    "def get_series(data, ser_id, *ser_ids):\n",
    "    ids = [ser_id] + list(ser_ids)\n",
    "    return data[data.series_id.isin(ids)].copy()"
   ]
  },
  {
   "cell_type": "code",
   "execution_count": 11,
   "metadata": {},
   "outputs": [],
   "source": [
    "default_stats = (\n",
    "    mean, median, standard_deviation, variance, skewness, kurtosis, maximum, minimum,\n",
    "    mean_change, mean_abs_change, count_above_mean, count_below_mean,\n",
    "    mean_second_derivative_central, sum_of_reoccurring_data_points, \n",
    "    abs_energy, sum_values, sample_entropy,\n",
    "    longest_strike_above_mean, longest_strike_below_mean,\n",
    "    first_location_of_minimum, first_location_of_maximum,\n",
    "    *[stat(large_standard_deviation, r=r*0.05) for r in range(1, 20)],\n",
    "    *[stat(autocorrelation, lag=lag) for lag in range(1, 25)], \n",
    "    *[stat(number_peaks, n=n) for n in (1, 2, 3, 5, 7, 10, 25, 50)],\n",
    "    *[stat(c3, lag=lag) for lag in range(1, 5)],\n",
    "    *[stat(quantile, q=q) for q in (.1, .2, .3, .4, .5, .6, .7, .8, .9)],\n",
    "    stat(partial_autocorrelation, param=[{'lag': lag} for lag in range(25)]),\n",
    "    stat(agg_autocorrelation, param=[{'f_agg': s, 'maxlag': 40} for s in ('mean', 'median', 'var')]),\n",
    "    stat(linear_trend, param=[\n",
    "        {'attr': a} for a in ('pvalue', 'rvalue', 'intercept', 'slope', 'stderr')])\n",
    ")"
   ]
  },
  {
   "cell_type": "code",
   "execution_count": 12,
   "metadata": {},
   "outputs": [],
   "source": [
    "class StatsFeatures:\n",
    "    def __init__(self, funcs=default_stats):\n",
    "        self.funcs = funcs\n",
    "    \n",
    "    def __call__(self, data):\n",
    "        features = {}\n",
    "        for col in data.columns:\n",
    "            for func in self.funcs:\n",
    "                result = func(data[col].values) \n",
    "                if hasattr(result, '__len__'):\n",
    "                    for key, value in result:\n",
    "                        features[f'{col}__{func.__name__}__{key}'] = value\n",
    "                else:\n",
    "                    features[f'{col}__{func.__name__}'] = result\n",
    "        return features"
   ]
  },
  {
   "cell_type": "code",
   "execution_count": 13,
   "metadata": {},
   "outputs": [],
   "source": [
    "class SliceFeatures:\n",
    "    def __init__(self, mode='first', n=5):\n",
    "        if mode not in {'first', 'middle', 'last'}:\n",
    "            raise ValueError('unexpected mode')\n",
    "        self.mode = mode\n",
    "        self.n = n\n",
    "    \n",
    "    def __call__(self, data):\n",
    "        if self.mode == 'first':\n",
    "            start, end = 0, self.n\n",
    "        elif self.mode == 'last':\n",
    "            start, end = -self.n, len(data)\n",
    "        elif self.mode == 'middle':\n",
    "            mid = len(data) // 2\n",
    "            div, mod = divmod(self.n, 2)\n",
    "            start, end = mid-div, mid+div+mod\n",
    "        cols = data.columns\n",
    "        vec = data.iloc[start:end].values.T.ravel()\n",
    "        new_cols = [f'{col}_{self.mode}{i}' for i in range(self.n) for col in cols]\n",
    "        return dict(zip(new_cols, vec))"
   ]
  },
  {
   "cell_type": "code",
   "execution_count": 15,
   "metadata": {},
   "outputs": [],
   "source": [
    "def generate_features(data, features, ignore=None):\n",
    "    with Parallel(n_jobs=cpu_count()) as parallel:\n",
    "        extracted = parallel(delayed(generate_features_for_group)(\n",
    "            group=group.drop(columns=ignore or []),\n",
    "            features=features\n",
    "        ) for _, group in tqdm(data.groupby('series_id')))\n",
    "    return pd.DataFrame(extracted)"
   ]
  },
  {
   "cell_type": "code",
   "execution_count": 16,
   "metadata": {},
   "outputs": [],
   "source": [
    "def generate_features_for_group(group, features):\n",
    "    return dict(ChainMap(*[feat(group) for feat in features]))"
   ]
  },
  {
   "cell_type": "code",
   "execution_count": 17,
   "metadata": {},
   "outputs": [],
   "source": [
    "ignore = ['series_id', 'measurement_number']"
   ]
  },
  {
   "cell_type": "code",
   "execution_count": null,
   "metadata": {},
   "outputs": [],
   "source": [
    "features = [\n",
    "    StatsFeatures(),\n",
    "    SliceFeatures('first'),\n",
    "    SliceFeatures('middle'),\n",
    "    SliceFeatures('last')\n",
    "]"
   ]
  },
  {
   "cell_type": "code",
   "execution_count": 18,
   "metadata": {},
   "outputs": [
    {
     "name": "stdout",
     "output_type": "stream",
     "text": [
      "Feature extraction on train dataset\n"
     ]
    },
    {
     "data": {
      "application/vnd.jupyter.widget-view+json": {
       "model_id": "212a87ea8b314ea986b363772473bf13",
       "version_major": 2,
       "version_minor": 0
      },
      "text/plain": [
       "HBox(children=(IntProgress(value=0, max=3810), HTML(value='')))"
      ]
     },
     "metadata": {},
     "output_type": "display_data"
    },
    {
     "name": "stdout",
     "output_type": "stream",
     "text": [
      "\n"
     ]
    }
   ],
   "source": [
    "print('Feature extraction on train dataset')\n",
    "x_trn_rich = generate_features(x_trn, features, ignore=ignore)"
   ]
  },
  {
   "cell_type": "code",
   "execution_count": 19,
   "metadata": {},
   "outputs": [
    {
     "name": "stdout",
     "output_type": "stream",
     "text": [
      "Feature extraction on train dataset\n"
     ]
    },
    {
     "data": {
      "application/vnd.jupyter.widget-view+json": {
       "model_id": "e27169dc9e7c4f7ab7e2ccc5f139ff35",
       "version_major": 2,
       "version_minor": 0
      },
      "text/plain": [
       "HBox(children=(IntProgress(value=0, max=3816), HTML(value='')))"
      ]
     },
     "metadata": {},
     "output_type": "display_data"
    },
    {
     "name": "stdout",
     "output_type": "stream",
     "text": [
      "\n"
     ]
    }
   ],
   "source": [
    "print('Feature extraction on train dataset')\n",
    "x_tst_rich = generate_features(x_tst, features, ignore=ignore)"
   ]
  },
  {
   "cell_type": "code",
   "execution_count": 20,
   "metadata": {},
   "outputs": [],
   "source": [
    "enc = LabelEncoder()\n",
    "y = enc.fit_transform(y_trn['surface'])"
   ]
  },
  {
   "cell_type": "code",
   "execution_count": 21,
   "metadata": {},
   "outputs": [],
   "source": [
    "def accuracy(y_true, y_pred):\n",
    "    n = len(y_true)\n",
    "    y_hat = y_pred.reshape(9, n).argmax(axis=0)\n",
    "    value = (y_true == y_hat).mean()\n",
    "    return 'accuracy', value, True"
   ]
  },
  {
   "cell_type": "code",
   "execution_count": 28,
   "metadata": {},
   "outputs": [
    {
     "name": "stdout",
     "output_type": "stream",
     "text": [
      "Running K-fold #1\n",
      "Training until validation scores don't improve for 300 rounds.\n",
      "[150]\tvalid_0's multi_logloss: 1.20245\tvalid_0's accuracy: 0.849351\n",
      "[300]\tvalid_0's multi_logloss: 0.830369\tvalid_0's accuracy: 0.864935\n",
      "[450]\tvalid_0's multi_logloss: 0.636175\tvalid_0's accuracy: 0.880519\n",
      "[600]\tvalid_0's multi_logloss: 0.521158\tvalid_0's accuracy: 0.883117\n",
      "[750]\tvalid_0's multi_logloss: 0.451773\tvalid_0's accuracy: 0.885714\n",
      "[900]\tvalid_0's multi_logloss: 0.406977\tvalid_0's accuracy: 0.893506\n",
      "[1050]\tvalid_0's multi_logloss: 0.376655\tvalid_0's accuracy: 0.890909\n",
      "Early stopping, best iteration is:\n",
      "[897]\tvalid_0's multi_logloss: 0.407856\tvalid_0's accuracy: 0.893506\n",
      "Running K-fold #2\n",
      "Training until validation scores don't improve for 300 rounds.\n",
      "[150]\tvalid_0's multi_logloss: 1.15719\tvalid_0's accuracy: 0.895833\n",
      "[300]\tvalid_0's multi_logloss: 0.775953\tvalid_0's accuracy: 0.895833\n",
      "[450]\tvalid_0's multi_logloss: 0.579844\tvalid_0's accuracy: 0.898438\n",
      "[600]\tvalid_0's multi_logloss: 0.468043\tvalid_0's accuracy: 0.903646\n",
      "[750]\tvalid_0's multi_logloss: 0.400948\tvalid_0's accuracy: 0.901042\n",
      "Early stopping, best iteration is:\n",
      "[479]\tvalid_0's multi_logloss: 0.552966\tvalid_0's accuracy: 0.908854\n",
      "Running K-fold #3\n",
      "Training until validation scores don't improve for 300 rounds.\n",
      "[150]\tvalid_0's multi_logloss: 1.18155\tvalid_0's accuracy: 0.835509\n",
      "[300]\tvalid_0's multi_logloss: 0.80939\tvalid_0's accuracy: 0.851175\n",
      "[450]\tvalid_0's multi_logloss: 0.612439\tvalid_0's accuracy: 0.869452\n",
      "[600]\tvalid_0's multi_logloss: 0.49833\tvalid_0's accuracy: 0.874674\n",
      "[750]\tvalid_0's multi_logloss: 0.425533\tvalid_0's accuracy: 0.877285\n",
      "[900]\tvalid_0's multi_logloss: 0.377024\tvalid_0's accuracy: 0.885117\n",
      "[1050]\tvalid_0's multi_logloss: 0.344929\tvalid_0's accuracy: 0.887728\n",
      "[1200]\tvalid_0's multi_logloss: 0.32376\tvalid_0's accuracy: 0.887728\n",
      "Early stopping, best iteration is:\n",
      "[918]\tvalid_0's multi_logloss: 0.372889\tvalid_0's accuracy: 0.887728\n",
      "Running K-fold #4\n",
      "Training until validation scores don't improve for 300 rounds.\n",
      "[150]\tvalid_0's multi_logloss: 1.2248\tvalid_0's accuracy: 0.824607\n",
      "[300]\tvalid_0's multi_logloss: 0.862105\tvalid_0's accuracy: 0.840314\n",
      "[450]\tvalid_0's multi_logloss: 0.672677\tvalid_0's accuracy: 0.856021\n",
      "[600]\tvalid_0's multi_logloss: 0.561713\tvalid_0's accuracy: 0.850785\n",
      "Early stopping, best iteration is:\n",
      "[437]\tvalid_0's multi_logloss: 0.685076\tvalid_0's accuracy: 0.856021\n",
      "Running K-fold #5\n",
      "Training until validation scores don't improve for 300 rounds.\n",
      "[150]\tvalid_0's multi_logloss: 1.17623\tvalid_0's accuracy: 0.879265\n",
      "[300]\tvalid_0's multi_logloss: 0.79613\tvalid_0's accuracy: 0.887139\n",
      "[450]\tvalid_0's multi_logloss: 0.596098\tvalid_0's accuracy: 0.897638\n",
      "[600]\tvalid_0's multi_logloss: 0.481762\tvalid_0's accuracy: 0.902887\n",
      "[750]\tvalid_0's multi_logloss: 0.411861\tvalid_0's accuracy: 0.908136\n",
      "[900]\tvalid_0's multi_logloss: 0.366993\tvalid_0's accuracy: 0.905512\n",
      "Early stopping, best iteration is:\n",
      "[653]\tvalid_0's multi_logloss: 0.453413\tvalid_0's accuracy: 0.910761\n",
      "Running K-fold #6\n",
      "Training until validation scores don't improve for 300 rounds.\n",
      "[150]\tvalid_0's multi_logloss: 1.20506\tvalid_0's accuracy: 0.850394\n",
      "[300]\tvalid_0's multi_logloss: 0.833786\tvalid_0's accuracy: 0.874016\n",
      "[450]\tvalid_0's multi_logloss: 0.636581\tvalid_0's accuracy: 0.871391\n",
      "[600]\tvalid_0's multi_logloss: 0.519676\tvalid_0's accuracy: 0.879265\n",
      "[750]\tvalid_0's multi_logloss: 0.4478\tvalid_0's accuracy: 0.884514\n",
      "[900]\tvalid_0's multi_logloss: 0.40235\tvalid_0's accuracy: 0.887139\n",
      "[1050]\tvalid_0's multi_logloss: 0.373659\tvalid_0's accuracy: 0.88189\n",
      "Early stopping, best iteration is:\n",
      "[844]\tvalid_0's multi_logloss: 0.416218\tvalid_0's accuracy: 0.889764\n",
      "Running K-fold #7\n",
      "Training until validation scores don't improve for 300 rounds.\n",
      "[150]\tvalid_0's multi_logloss: 1.19211\tvalid_0's accuracy: 0.860892\n",
      "[300]\tvalid_0's multi_logloss: 0.808596\tvalid_0's accuracy: 0.88189\n",
      "[450]\tvalid_0's multi_logloss: 0.606251\tvalid_0's accuracy: 0.889764\n",
      "[600]\tvalid_0's multi_logloss: 0.487745\tvalid_0's accuracy: 0.889764\n",
      "Early stopping, best iteration is:\n",
      "[421]\tvalid_0's multi_logloss: 0.636404\tvalid_0's accuracy: 0.892388\n",
      "Running K-fold #8\n",
      "Training until validation scores don't improve for 300 rounds.\n",
      "[150]\tvalid_0's multi_logloss: 1.1923\tvalid_0's accuracy: 0.854881\n",
      "[300]\tvalid_0's multi_logloss: 0.81891\tvalid_0's accuracy: 0.870712\n",
      "[450]\tvalid_0's multi_logloss: 0.620775\tvalid_0's accuracy: 0.875989\n",
      "[600]\tvalid_0's multi_logloss: 0.50442\tvalid_0's accuracy: 0.881266\n",
      "[750]\tvalid_0's multi_logloss: 0.427805\tvalid_0's accuracy: 0.881266\n",
      "[900]\tvalid_0's multi_logloss: 0.379289\tvalid_0's accuracy: 0.889182\n",
      "[1050]\tvalid_0's multi_logloss: 0.347795\tvalid_0's accuracy: 0.891821\n",
      "[1200]\tvalid_0's multi_logloss: 0.327831\tvalid_0's accuracy: 0.902375\n",
      "[1350]\tvalid_0's multi_logloss: 0.316594\tvalid_0's accuracy: 0.897098\n",
      "Early stopping, best iteration is:\n",
      "[1190]\tvalid_0's multi_logloss: 0.328902\tvalid_0's accuracy: 0.902375\n",
      "Running K-fold #9\n",
      "Training until validation scores don't improve for 300 rounds.\n",
      "[150]\tvalid_0's multi_logloss: 1.17039\tvalid_0's accuracy: 0.883598\n",
      "[300]\tvalid_0's multi_logloss: 0.793189\tvalid_0's accuracy: 0.888889\n",
      "[450]\tvalid_0's multi_logloss: 0.598152\tvalid_0's accuracy: 0.891534\n",
      "Early stopping, best iteration is:\n",
      "[267]\tvalid_0's multi_logloss: 0.854867\tvalid_0's accuracy: 0.89418\n",
      "Running K-fold #10\n",
      "Training until validation scores don't improve for 300 rounds.\n",
      "[150]\tvalid_0's multi_logloss: 1.19191\tvalid_0's accuracy: 0.861702\n",
      "[300]\tvalid_0's multi_logloss: 0.817234\tvalid_0's accuracy: 0.869681\n",
      "[450]\tvalid_0's multi_logloss: 0.620917\tvalid_0's accuracy: 0.87766\n",
      "[600]\tvalid_0's multi_logloss: 0.509175\tvalid_0's accuracy: 0.882979\n",
      "[750]\tvalid_0's multi_logloss: 0.439667\tvalid_0's accuracy: 0.882979\n",
      "[900]\tvalid_0's multi_logloss: 0.394568\tvalid_0's accuracy: 0.888298\n",
      "[1050]\tvalid_0's multi_logloss: 0.364937\tvalid_0's accuracy: 0.888298\n",
      "[1200]\tvalid_0's multi_logloss: 0.345487\tvalid_0's accuracy: 0.893617\n",
      "[1350]\tvalid_0's multi_logloss: 0.333105\tvalid_0's accuracy: 0.893617\n",
      "Early stopping, best iteration is:\n",
      "[1147]\tvalid_0's multi_logloss: 0.35136\tvalid_0's accuracy: 0.893617\n"
     ]
    }
   ],
   "source": [
    "k = 10\n",
    "test = np.zeros((len(x_tst_rich), 9), dtype=np.float32)\n",
    "for i, x_trn, x_val, y_trn, y_val in kfolds(x_trn_rich, pd.Series(y), k):\n",
    "    print(f'Running K-fold #{i+1:d}')\n",
    "    model = lgb.LGBMClassifier(\n",
    "        n_estimators=3000, learning_rate=0.005,\n",
    "        colsample_bytree=0.4, objective='multiclass',\n",
    "        num_leaves=500, num_class=9)\n",
    "    model.fit(x_trn, y_trn,\n",
    "              eval_set=[(x_val, y_val)],\n",
    "              eval_metric=accuracy,\n",
    "              early_stopping_rounds=300,\n",
    "              verbose=150)\n",
    "    test += model.predict_proba(x_tst_rich)\n",
    "test /= k"
   ]
  },
  {
   "cell_type": "code",
   "execution_count": 41,
   "metadata": {},
   "outputs": [
    {
     "name": "stdout",
     "output_type": "stream",
     "text": [
      "100%|██████████████████████████████████████| 52.5k/52.5k [00:00<00:00, 46.6kB/s]\n",
      "Successfully submitted to CareerCon 2019 - Help Navigate Robots "
     ]
    }
   ],
   "source": [
    "submit = pd.read_csv(SAMPLE)\n",
    "submit['surface'] = enc.inverse_transform(model.predict(x_tst_rich))\n",
    "submit.to_csv('submit.csv', index=None)\n",
    "!kaggle c submit career-con-2019 -f 'submit.csv' -m \"LightGBM tsfresh with more features\""
   ]
  },
  {
   "cell_type": "code",
   "execution_count": null,
   "metadata": {},
   "outputs": [],
   "source": []
  }
 ],
 "metadata": {
  "kernelspec": {
   "display_name": "fastai (cuda 10)",
   "language": "python",
   "name": "fastai"
  },
  "language_info": {
   "codemirror_mode": {
    "name": "ipython",
    "version": 3
   },
   "file_extension": ".py",
   "mimetype": "text/x-python",
   "name": "python",
   "nbconvert_exporter": "python",
   "pygments_lexer": "ipython3",
   "version": "3.7.1"
  },
  "toc": {
   "base_numbering": 1,
   "nav_menu": {},
   "number_sections": true,
   "sideBar": true,
   "skip_h1_title": false,
   "title_cell": "Table of Contents",
   "title_sidebar": "Contents",
   "toc_cell": false,
   "toc_position": {},
   "toc_section_display": true,
   "toc_window_display": false
  }
 },
 "nbformat": 4,
 "nbformat_minor": 2
}

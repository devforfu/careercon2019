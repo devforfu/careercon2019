{
 "cells": [
  {
   "cell_type": "code",
   "execution_count": 1,
   "metadata": {},
   "outputs": [],
   "source": [
    "from pathlib import Path"
   ]
  },
  {
   "cell_type": "code",
   "execution_count": 50,
   "metadata": {},
   "outputs": [],
   "source": [
    "import numpy as np\n",
    "import pandas as pd\n",
    "from sklearn.preprocessing import LabelEncoder\n",
    "from sklearn.model_selection import train_test_split\n",
    "import torch\n",
    "from torch import nn\n",
    "from torch import optim\n",
    "from torch.nn import functional as F\n",
    "from torch.optim.lr_scheduler import _LRScheduler\n",
    "from torch.utils.data import TensorDataset, DataLoader"
   ]
  },
  {
   "cell_type": "code",
   "execution_count": 53,
   "metadata": {},
   "outputs": [],
   "source": [
    "seed = 1\n",
    "np.random.seed(seed)"
   ]
  },
  {
   "cell_type": "code",
   "execution_count": 3,
   "metadata": {},
   "outputs": [],
   "source": [
    "# ROOT = Path.cwd().parent/'input'\n",
    "ROOT = Path.home()/'data'/'careercon2019'"
   ]
  },
  {
   "cell_type": "code",
   "execution_count": 4,
   "metadata": {},
   "outputs": [],
   "source": [
    "SAMPLE = ROOT/'sample_submission.csv'\n",
    "TRAIN = ROOT/'X_train.csv'\n",
    "TARGET = ROOT/'y_train.csv'\n",
    "TEST = ROOT/'X_test.csv'\n",
    "\n",
    "ID_COLS = ['series_id', 'measurement_number']\n",
    "\n",
    "x_cols = {\n",
    "    'series_id': np.uint32,\n",
    "    'measurement_number': np.uint32,\n",
    "    'orientation_X': np.float32,\n",
    "    'orientation_Y': np.float32,\n",
    "    'orientation_Z': np.float32,\n",
    "    'orientation_W': np.float32,\n",
    "    'angular_velocity_X': np.float32,\n",
    "    'angular_velocity_Y': np.float32,\n",
    "    'angular_velocity_Z': np.float32,\n",
    "    'linear_acceleration_X': np.float32,\n",
    "    'linear_acceleration_Y': np.float32,\n",
    "    'linear_acceleration_Z': np.float32\n",
    "}\n",
    "\n",
    "y_cols = {\n",
    "    'series_id': np.uint32,\n",
    "    'group_id': np.uint32,\n",
    "    'surface': str\n",
    "}"
   ]
  },
  {
   "cell_type": "code",
   "execution_count": 5,
   "metadata": {},
   "outputs": [],
   "source": [
    "x_trn = pd.read_csv(TRAIN, usecols=x_cols.keys(), dtype=x_cols)\n",
    "x_tst = pd.read_csv(TEST, usecols=x_cols.keys(), dtype=x_cols)\n",
    "y_trn = pd.read_csv(TARGET, usecols=y_cols.keys(), dtype=y_cols)"
   ]
  },
  {
   "cell_type": "code",
   "execution_count": 6,
   "metadata": {},
   "outputs": [],
   "source": [
    "def add_euler_angles(df):\n",
    "    \"\"\"Adds Euler angles features to the dataset.\"\"\"\n",
    "    \n",
    "    x, y, z, w = [df[f'orientation_{s}'] for s in list('XYZW')]\n",
    "    nx, ny, nz = quaternion_to_euler(x, y, z, w)\n",
    "    df['euler_X'] = nx\n",
    "    df['euler_Y'] = ny\n",
    "    df['euler_Z'] = nz\n",
    "    return df"
   ]
  },
  {
   "cell_type": "code",
   "execution_count": 7,
   "metadata": {},
   "outputs": [],
   "source": [
    "def quaternion_to_euler(x, y, z, w):\n",
    "    \"\"\"Converts quaternion values into Euler angles (roll, pitch and yaw).\"\"\"\n",
    "    \n",
    "    t0 = 2.0*(w*x + y*z)\n",
    "    t1 = 1.0 - 2.0*(x*x + y*y)\n",
    "    X = np.arctan2(t0, t1)\n",
    "    \n",
    "    t2 = np.clip(2.0*(w*y - z*x), -1, 1)\n",
    "    Y = np.arcsin(t2)\n",
    "    \n",
    "    t3 = 2.0*(w*z + x*y)\n",
    "    t4 = 1.0 - 2.0*(y*y + z*z)\n",
    "    Z = np.arctan2(t3, t4)\n",
    "    \n",
    "    return X, Y, Z"
   ]
  },
  {
   "cell_type": "code",
   "execution_count": 8,
   "metadata": {},
   "outputs": [],
   "source": [
    "def startswith(df, prefix):\n",
    "    return df.columns[df.columns.str.startswith(prefix)].tolist()"
   ]
  },
  {
   "cell_type": "code",
   "execution_count": 10,
   "metadata": {},
   "outputs": [
    {
     "name": "stdout",
     "output_type": "stream",
     "text": [
      "Number of series: 3810 train, 3816 test\n"
     ]
    }
   ],
   "source": [
    "trn_sz, tst_sz = x_trn.series_id.nunique(), x_tst.series_id.nunique()\n",
    "print(f'Number of series: {trn_sz} train, {tst_sz} test')"
   ]
  },
  {
   "cell_type": "code",
   "execution_count": 11,
   "metadata": {},
   "outputs": [],
   "source": [
    "x_tst['series_id'] += len(x_trn)"
   ]
  },
  {
   "cell_type": "code",
   "execution_count": 12,
   "metadata": {},
   "outputs": [],
   "source": [
    "data = pd.concat([x_trn, x_tst], axis=0).reset_index(drop=True)"
   ]
  },
  {
   "cell_type": "code",
   "execution_count": 13,
   "metadata": {},
   "outputs": [],
   "source": [
    "data = add_euler_angles(data)"
   ]
  },
  {
   "cell_type": "code",
   "execution_count": 14,
   "metadata": {},
   "outputs": [],
   "source": [
    "data = data.drop(columns=['measurement_number'] + startswith(data, 'orient'))"
   ]
  },
  {
   "cell_type": "code",
   "execution_count": 18,
   "metadata": {},
   "outputs": [
    {
     "data": {
      "text/html": [
       "<div>\n",
       "<style scoped>\n",
       "    .dataframe tbody tr th:only-of-type {\n",
       "        vertical-align: middle;\n",
       "    }\n",
       "\n",
       "    .dataframe tbody tr th {\n",
       "        vertical-align: top;\n",
       "    }\n",
       "\n",
       "    .dataframe thead th {\n",
       "        text-align: right;\n",
       "    }\n",
       "</style>\n",
       "<table border=\"1\" class=\"dataframe\">\n",
       "  <thead>\n",
       "    <tr style=\"text-align: right;\">\n",
       "      <th></th>\n",
       "      <th>143195</th>\n",
       "      <th>618716</th>\n",
       "      <th>802766</th>\n",
       "      <th>866678</th>\n",
       "      <th>761708</th>\n",
       "    </tr>\n",
       "  </thead>\n",
       "  <tbody>\n",
       "    <tr>\n",
       "      <th>series_id</th>\n",
       "      <td>1118.000000</td>\n",
       "      <td>488703.000000</td>\n",
       "      <td>490141.000000</td>\n",
       "      <td>490640.000000</td>\n",
       "      <td>489820.000000</td>\n",
       "    </tr>\n",
       "    <tr>\n",
       "      <th>angular_velocity_X</th>\n",
       "      <td>-0.017536</td>\n",
       "      <td>0.250550</td>\n",
       "      <td>0.019738</td>\n",
       "      <td>-0.006506</td>\n",
       "      <td>-0.091019</td>\n",
       "    </tr>\n",
       "    <tr>\n",
       "      <th>angular_velocity_Y</th>\n",
       "      <td>-0.056279</td>\n",
       "      <td>0.003368</td>\n",
       "      <td>-0.166340</td>\n",
       "      <td>-0.016665</td>\n",
       "      <td>-0.015642</td>\n",
       "    </tr>\n",
       "    <tr>\n",
       "      <th>angular_velocity_Z</th>\n",
       "      <td>0.031492</td>\n",
       "      <td>-0.076702</td>\n",
       "      <td>0.576190</td>\n",
       "      <td>0.045611</td>\n",
       "      <td>0.159720</td>\n",
       "    </tr>\n",
       "    <tr>\n",
       "      <th>linear_acceleration_X</th>\n",
       "      <td>-1.548200</td>\n",
       "      <td>-0.086836</td>\n",
       "      <td>0.396840</td>\n",
       "      <td>1.679100</td>\n",
       "      <td>-0.650160</td>\n",
       "    </tr>\n",
       "    <tr>\n",
       "      <th>linear_acceleration_Y</th>\n",
       "      <td>1.404600</td>\n",
       "      <td>4.783100</td>\n",
       "      <td>2.978300</td>\n",
       "      <td>3.468300</td>\n",
       "      <td>6.759900</td>\n",
       "    </tr>\n",
       "    <tr>\n",
       "      <th>linear_acceleration_Z</th>\n",
       "      <td>-10.587000</td>\n",
       "      <td>-10.841000</td>\n",
       "      <td>-9.530800</td>\n",
       "      <td>-5.005200</td>\n",
       "      <td>-7.221800</td>\n",
       "    </tr>\n",
       "    <tr>\n",
       "      <th>euler_X</th>\n",
       "      <td>2.839165</td>\n",
       "      <td>2.841314</td>\n",
       "      <td>2.843740</td>\n",
       "      <td>2.843757</td>\n",
       "      <td>2.840602</td>\n",
       "    </tr>\n",
       "    <tr>\n",
       "      <th>euler_Y</th>\n",
       "      <td>-0.017802</td>\n",
       "      <td>-0.011658</td>\n",
       "      <td>-0.015219</td>\n",
       "      <td>-0.014885</td>\n",
       "      <td>-0.014945</td>\n",
       "    </tr>\n",
       "    <tr>\n",
       "      <th>euler_Z</th>\n",
       "      <td>3.046572</td>\n",
       "      <td>2.081970</td>\n",
       "      <td>-0.759491</td>\n",
       "      <td>-0.251047</td>\n",
       "      <td>2.313972</td>\n",
       "    </tr>\n",
       "  </tbody>\n",
       "</table>\n",
       "</div>"
      ],
      "text/plain": [
       "                            143195         618716         802766  \\\n",
       "series_id              1118.000000  488703.000000  490141.000000   \n",
       "angular_velocity_X       -0.017536       0.250550       0.019738   \n",
       "angular_velocity_Y       -0.056279       0.003368      -0.166340   \n",
       "angular_velocity_Z        0.031492      -0.076702       0.576190   \n",
       "linear_acceleration_X    -1.548200      -0.086836       0.396840   \n",
       "linear_acceleration_Y     1.404600       4.783100       2.978300   \n",
       "linear_acceleration_Z   -10.587000     -10.841000      -9.530800   \n",
       "euler_X                   2.839165       2.841314       2.843740   \n",
       "euler_Y                  -0.017802      -0.011658      -0.015219   \n",
       "euler_Z                   3.046572       2.081970      -0.759491   \n",
       "\n",
       "                              866678         761708  \n",
       "series_id              490640.000000  489820.000000  \n",
       "angular_velocity_X         -0.006506      -0.091019  \n",
       "angular_velocity_Y         -0.016665      -0.015642  \n",
       "angular_velocity_Z          0.045611       0.159720  \n",
       "linear_acceleration_X       1.679100      -0.650160  \n",
       "linear_acceleration_Y       3.468300       6.759900  \n",
       "linear_acceleration_Z      -5.005200      -7.221800  \n",
       "euler_X                     2.843757       2.840602  \n",
       "euler_Y                    -0.014885      -0.014945  \n",
       "euler_Z                    -0.251047       2.313972  "
      ]
     },
     "execution_count": 18,
     "metadata": {},
     "output_type": "execute_result"
    }
   ],
   "source": [
    "data.sample(5).T"
   ]
  },
  {
   "cell_type": "code",
   "execution_count": 19,
   "metadata": {},
   "outputs": [],
   "source": [
    "euler_cols = startswith(data, 'euler')\n",
    "linear_cols = startswith(data, 'linear') \n",
    "angular_cols = startswith(data, 'angular')"
   ]
  },
  {
   "cell_type": "code",
   "execution_count": 20,
   "metadata": {},
   "outputs": [],
   "source": [
    "def abs_fft(arr): return np.abs(np.fft.rfft(arr))"
   ]
  },
  {
   "cell_type": "code",
   "execution_count": 21,
   "metadata": {},
   "outputs": [],
   "source": [
    "def zero_mean(x): return x - x.mean()"
   ]
  },
  {
   "cell_type": "code",
   "execution_count": 22,
   "metadata": {},
   "outputs": [],
   "source": [
    "def zscore(x): return (x - x.mean())/x.std()"
   ]
  },
  {
   "cell_type": "code",
   "execution_count": 23,
   "metadata": {},
   "outputs": [],
   "source": [
    "groups = data.groupby('series_id')"
   ]
  },
  {
   "cell_type": "code",
   "execution_count": 24,
   "metadata": {},
   "outputs": [],
   "source": [
    "data = pd.concat([\n",
    "    groups[euler_cols].diff().fillna(0),\n",
    "    groups[linear_cols].transform(zero_mean),\n",
    "    groups[angular_cols].transform(zero_mean)\n",
    "], axis=1, sort=False)"
   ]
  },
  {
   "cell_type": "code",
   "execution_count": 25,
   "metadata": {},
   "outputs": [],
   "source": [
    "fft_data = (\n",
    "    groups[linear_cols + angular_cols]\n",
    "    .apply(lambda df: df.apply(abs_fft, axis=0))\n",
    "    .reset_index('series_id', drop=True))"
   ]
  },
  {
   "cell_type": "code",
   "execution_count": 30,
   "metadata": {},
   "outputs": [],
   "source": [
    "seq_len = 128\n",
    "fft_seq_len = seq_len//2 + 1"
   ]
  },
  {
   "cell_type": "code",
   "execution_count": 35,
   "metadata": {},
   "outputs": [],
   "source": [
    "raw_arr = data.values.reshape([trn_sz + tst_sz, seq_len, len(data.columns)])"
   ]
  },
  {
   "cell_type": "code",
   "execution_count": 36,
   "metadata": {},
   "outputs": [],
   "source": [
    "fft_arr = fft_data.values.reshape([trn_sz + tst_sz, fft_seq_len, len(fft_data.columns)])"
   ]
  },
  {
   "cell_type": "code",
   "execution_count": 37,
   "metadata": {},
   "outputs": [
    {
     "name": "stdout",
     "output_type": "stream",
     "text": [
      "Prepared datasets shapes: (7626, 128, 9) raw, (7626, 65, 6) fft\n"
     ]
    }
   ],
   "source": [
    "print(f'Prepared datasets shapes: {raw_arr.shape} raw, {fft_arr.shape} fft')"
   ]
  },
  {
   "cell_type": "code",
   "execution_count": 55,
   "metadata": {},
   "outputs": [],
   "source": [
    "enc = LabelEncoder().fit(y_trn['surface'])\n",
    "target = list(enc.transform(y_trn['surface']) + 1)\n",
    "target += [0] * tst_sz\n",
    "target = np.array(target)\n",
    "assert len(target) == trn_sz + tst_sz"
   ]
  },
  {
   "cell_type": "code",
   "execution_count": 51,
   "metadata": {},
   "outputs": [],
   "source": [
    "def create_datasets(data, target, train_size, valid_pct=0.1, seed=None):\n",
    "    raw, fft = data\n",
    "    assert len(raw) == len(fft)\n",
    "    sz = train_size\n",
    "    idx = np.arange(sz)\n",
    "    trn_idx, val_idx = train_test_split(\n",
    "        idx, test_size=valid_pct, random_state=seed)\n",
    "    trn_ds = TensorDataset(\n",
    "        torch.tensor(raw[:sz][trn_idx]).float(), \n",
    "        torch.tensor(fft[:sz][trn_idx]).float(), \n",
    "        torch.tensor(target[:sz][trn_idx]).long())\n",
    "    val_ds = TensorDataset(\n",
    "        torch.tensor(raw[:sz][val_idx]).float(), \n",
    "        torch.tensor(fft[:sz][val_idx]).float(), \n",
    "        torch.tensor(target[:sz][val_idx]).long())\n",
    "    tst_ds = TensorDataset(\n",
    "        torch.tensor(raw[sz:]).float(), \n",
    "        torch.tensor(fft[sz:]).float(), \n",
    "        torch.tensor(target[sz:]).long())\n",
    "    return trn_ds, val_ds, tst_ds"
   ]
  },
  {
   "cell_type": "code",
   "execution_count": 52,
   "metadata": {},
   "outputs": [],
   "source": [
    "def create_loaders(data, bs=128, jobs=0):\n",
    "    trn_ds, val_ds, tst_ds = data\n",
    "    trn_dl = DataLoader(trn_ds, batch_size=bs, shuffle=True, num_workers=jobs)\n",
    "    val_dl = DataLoader(val_ds, batch_size=bs, shuffle=False, num_workers=jobs)\n",
    "    tst_dl = DataLoader(tst_ds, batch_size=bs, shuffle=False, num_workers=jobs)\n",
    "    return trn_dl, val_dl, tst_dl"
   ]
  },
  {
   "cell_type": "code",
   "execution_count": 56,
   "metadata": {},
   "outputs": [],
   "source": [
    "datasets = create_datasets((raw_arr, fft_arr), target, trn_sz, seed=seed)"
   ]
  },
  {
   "cell_type": "code",
   "execution_count": null,
   "metadata": {},
   "outputs": [],
   "source": []
  }
 ],
 "metadata": {
  "kernelspec": {
   "display_name": "Python 3",
   "language": "python",
   "name": "python3"
  },
  "language_info": {
   "codemirror_mode": {
    "name": "ipython",
    "version": 3
   },
   "file_extension": ".py",
   "mimetype": "text/x-python",
   "name": "python",
   "nbconvert_exporter": "python",
   "pygments_lexer": "ipython3",
   "version": "3.7.1"
  },
  "toc": {
   "base_numbering": 1,
   "nav_menu": {},
   "number_sections": true,
   "sideBar": true,
   "skip_h1_title": false,
   "title_cell": "Table of Contents",
   "title_sidebar": "Contents",
   "toc_cell": false,
   "toc_position": {},
   "toc_section_display": true,
   "toc_window_display": false
  }
 },
 "nbformat": 4,
 "nbformat_minor": 2
}

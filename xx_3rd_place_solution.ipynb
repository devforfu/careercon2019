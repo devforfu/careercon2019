{
 "cells": [
  {
   "cell_type": "code",
   "execution_count": 1,
   "metadata": {},
   "outputs": [],
   "source": [
    "from pathlib import Path"
   ]
  },
  {
   "cell_type": "code",
   "execution_count": 2,
   "metadata": {},
   "outputs": [],
   "source": [
    "import numpy as np\n",
    "import pandas as pd\n",
    "from sklearn.preprocessing import LabelEncoder\n",
    "import torch\n",
    "from torch import nn\n",
    "from torch import optim\n",
    "from torch.nn import functional as F\n",
    "from torch.optim.lr_scheduler import _LRScheduler"
   ]
  },
  {
   "cell_type": "code",
   "execution_count": 3,
   "metadata": {},
   "outputs": [],
   "source": [
    "# ROOT = Path.cwd().parent/'input'\n",
    "ROOT = Path.home()/'data'/'careercon2019'"
   ]
  },
  {
   "cell_type": "code",
   "execution_count": 4,
   "metadata": {},
   "outputs": [],
   "source": [
    "SAMPLE = ROOT/'sample_submission.csv'\n",
    "TRAIN = ROOT/'X_train.csv'\n",
    "TARGET = ROOT/'y_train.csv'\n",
    "TEST = ROOT/'X_test.csv'\n",
    "\n",
    "ID_COLS = ['series_id', 'measurement_number']\n",
    "\n",
    "x_cols = {\n",
    "    'series_id': np.uint32,\n",
    "    'measurement_number': np.uint32,\n",
    "    'orientation_X': np.float32,\n",
    "    'orientation_Y': np.float32,\n",
    "    'orientation_Z': np.float32,\n",
    "    'orientation_W': np.float32,\n",
    "    'angular_velocity_X': np.float32,\n",
    "    'angular_velocity_Y': np.float32,\n",
    "    'angular_velocity_Z': np.float32,\n",
    "    'linear_acceleration_X': np.float32,\n",
    "    'linear_acceleration_Y': np.float32,\n",
    "    'linear_acceleration_Z': np.float32\n",
    "}\n",
    "\n",
    "y_cols = {\n",
    "    'series_id': np.uint32,\n",
    "    'group_id': np.uint32,\n",
    "    'surface': str\n",
    "}"
   ]
  },
  {
   "cell_type": "code",
   "execution_count": 5,
   "metadata": {},
   "outputs": [],
   "source": [
    "x_trn = pd.read_csv(TRAIN, usecols=x_cols.keys(), dtype=x_cols)\n",
    "x_tst = pd.read_csv(TEST, usecols=x_cols.keys(), dtype=x_cols)\n",
    "y_trn = pd.read_csv(TARGET, usecols=y_cols.keys(), dtype=y_cols)"
   ]
  },
  {
   "cell_type": "code",
   "execution_count": 6,
   "metadata": {},
   "outputs": [],
   "source": [
    "def add_euler_angles(df):\n",
    "    \"\"\"Adds Euler angles features to the dataset.\"\"\"\n",
    "    \n",
    "    x, y, z, w = [df[f'orientation_{s}'] for s in list('XYZW')]\n",
    "    nx, ny, nz = quaternion_to_euler(x, y, z, w)\n",
    "    df['euler_X'] = nx\n",
    "    df['euler_Y'] = ny\n",
    "    df['euler_Z'] = nz\n",
    "    return df"
   ]
  },
  {
   "cell_type": "code",
   "execution_count": 7,
   "metadata": {},
   "outputs": [],
   "source": [
    "def quaternion_to_euler(x, y, z, w):\n",
    "    \"\"\"Converts quaternion values into Euler angles (roll, pitch and yaw).\"\"\"\n",
    "    \n",
    "    t0 = 2.0*(w*x + y*z)\n",
    "    t1 = 1.0 - 2.0*(x*x + y*y)\n",
    "    X = np.arctan2(t0, t1)\n",
    "    \n",
    "    t2 = np.clip(2.0*(w*y - z*x), -1, 1)\n",
    "    Y = np.arcsin(t2)\n",
    "    \n",
    "    t3 = 2.0*(w*z + x*y)\n",
    "    t4 = 1.0 - 2.0*(y*y + z*z)\n",
    "    Z = np.arctan2(t3, t4)\n",
    "    \n",
    "    return X, Y, Z"
   ]
  },
  {
   "cell_type": "code",
   "execution_count": 8,
   "metadata": {},
   "outputs": [],
   "source": [
    "def startswith(df, prefix):\n",
    "    return df.columns[df.columns.str.startswith(prefix)].tolist()"
   ]
  },
  {
   "cell_type": "code",
   "execution_count": 9,
   "metadata": {},
   "outputs": [],
   "source": [
    "data = pd.concat([x_trn, x_tst], axis=0).reset_index(drop=True)"
   ]
  },
  {
   "cell_type": "code",
   "execution_count": 10,
   "metadata": {},
   "outputs": [],
   "source": [
    "data = add_euler_angles(data)"
   ]
  },
  {
   "cell_type": "code",
   "execution_count": 11,
   "metadata": {},
   "outputs": [],
   "source": [
    "data = data.drop(columns=['measurement_number'] + startswith(data, 'orient'))"
   ]
  },
  {
   "cell_type": "code",
   "execution_count": 12,
   "metadata": {},
   "outputs": [],
   "source": [
    "euler_cols = startswith(data, 'euler')\n",
    "linear_cols = startswith(data, 'linear') \n",
    "angular_cols = startswith(data, 'angular')"
   ]
  },
  {
   "cell_type": "code",
   "execution_count": 13,
   "metadata": {},
   "outputs": [
    {
     "data": {
      "text/html": [
       "<div>\n",
       "<style scoped>\n",
       "    .dataframe tbody tr th:only-of-type {\n",
       "        vertical-align: middle;\n",
       "    }\n",
       "\n",
       "    .dataframe tbody tr th {\n",
       "        vertical-align: top;\n",
       "    }\n",
       "\n",
       "    .dataframe thead th {\n",
       "        text-align: right;\n",
       "    }\n",
       "</style>\n",
       "<table border=\"1\" class=\"dataframe\">\n",
       "  <thead>\n",
       "    <tr style=\"text-align: right;\">\n",
       "      <th></th>\n",
       "      <th>530711</th>\n",
       "      <th>561100</th>\n",
       "      <th>539579</th>\n",
       "      <th>363522</th>\n",
       "      <th>726818</th>\n",
       "    </tr>\n",
       "  </thead>\n",
       "  <tbody>\n",
       "    <tr>\n",
       "      <th>series_id</th>\n",
       "      <td>336.000000</td>\n",
       "      <td>573.000000</td>\n",
       "      <td>405.000000</td>\n",
       "      <td>2840.000000</td>\n",
       "      <td>1868.000000</td>\n",
       "    </tr>\n",
       "    <tr>\n",
       "      <th>angular_velocity_X</th>\n",
       "      <td>0.325070</td>\n",
       "      <td>-0.079726</td>\n",
       "      <td>0.001113</td>\n",
       "      <td>0.002210</td>\n",
       "      <td>-0.025326</td>\n",
       "    </tr>\n",
       "    <tr>\n",
       "      <th>angular_velocity_Y</th>\n",
       "      <td>-0.092451</td>\n",
       "      <td>0.012845</td>\n",
       "      <td>0.043224</td>\n",
       "      <td>0.063437</td>\n",
       "      <td>0.008647</td>\n",
       "    </tr>\n",
       "    <tr>\n",
       "      <th>angular_velocity_Z</th>\n",
       "      <td>-0.073349</td>\n",
       "      <td>-0.026648</td>\n",
       "      <td>-0.104540</td>\n",
       "      <td>0.056979</td>\n",
       "      <td>-0.037716</td>\n",
       "    </tr>\n",
       "    <tr>\n",
       "      <th>linear_acceleration_X</th>\n",
       "      <td>0.769010</td>\n",
       "      <td>1.025900</td>\n",
       "      <td>-0.086337</td>\n",
       "      <td>-0.016545</td>\n",
       "      <td>-0.357460</td>\n",
       "    </tr>\n",
       "    <tr>\n",
       "      <th>linear_acceleration_Y</th>\n",
       "      <td>3.796300</td>\n",
       "      <td>1.146600</td>\n",
       "      <td>3.058700</td>\n",
       "      <td>2.670700</td>\n",
       "      <td>2.877100</td>\n",
       "    </tr>\n",
       "    <tr>\n",
       "      <th>linear_acceleration_Z</th>\n",
       "      <td>-4.834600</td>\n",
       "      <td>-10.614000</td>\n",
       "      <td>-9.500600</td>\n",
       "      <td>-8.885500</td>\n",
       "      <td>-9.262900</td>\n",
       "    </tr>\n",
       "    <tr>\n",
       "      <th>euler_X</th>\n",
       "      <td>2.843421</td>\n",
       "      <td>2.835299</td>\n",
       "      <td>2.842177</td>\n",
       "      <td>2.841404</td>\n",
       "      <td>2.838207</td>\n",
       "    </tr>\n",
       "    <tr>\n",
       "      <th>euler_Y</th>\n",
       "      <td>-0.010106</td>\n",
       "      <td>-0.015245</td>\n",
       "      <td>-0.011932</td>\n",
       "      <td>-0.014216</td>\n",
       "      <td>-0.019533</td>\n",
       "    </tr>\n",
       "    <tr>\n",
       "      <th>euler_Z</th>\n",
       "      <td>-2.080324</td>\n",
       "      <td>1.962196</td>\n",
       "      <td>0.900356</td>\n",
       "      <td>-1.486659</td>\n",
       "      <td>3.056287</td>\n",
       "    </tr>\n",
       "  </tbody>\n",
       "</table>\n",
       "</div>"
      ],
      "text/plain": [
       "                           530711      561100      539579       363522  \\\n",
       "series_id              336.000000  573.000000  405.000000  2840.000000   \n",
       "angular_velocity_X       0.325070   -0.079726    0.001113     0.002210   \n",
       "angular_velocity_Y      -0.092451    0.012845    0.043224     0.063437   \n",
       "angular_velocity_Z      -0.073349   -0.026648   -0.104540     0.056979   \n",
       "linear_acceleration_X    0.769010    1.025900   -0.086337    -0.016545   \n",
       "linear_acceleration_Y    3.796300    1.146600    3.058700     2.670700   \n",
       "linear_acceleration_Z   -4.834600  -10.614000   -9.500600    -8.885500   \n",
       "euler_X                  2.843421    2.835299    2.842177     2.841404   \n",
       "euler_Y                 -0.010106   -0.015245   -0.011932    -0.014216   \n",
       "euler_Z                 -2.080324    1.962196    0.900356    -1.486659   \n",
       "\n",
       "                            726818  \n",
       "series_id              1868.000000  \n",
       "angular_velocity_X       -0.025326  \n",
       "angular_velocity_Y        0.008647  \n",
       "angular_velocity_Z       -0.037716  \n",
       "linear_acceleration_X    -0.357460  \n",
       "linear_acceleration_Y     2.877100  \n",
       "linear_acceleration_Z    -9.262900  \n",
       "euler_X                   2.838207  \n",
       "euler_Y                  -0.019533  \n",
       "euler_Z                   3.056287  "
      ]
     },
     "execution_count": 13,
     "metadata": {},
     "output_type": "execute_result"
    }
   ],
   "source": [
    "data.sample(5).T"
   ]
  },
  {
   "cell_type": "code",
   "execution_count": 86,
   "metadata": {},
   "outputs": [],
   "source": [
    "df = pd.DataFrame({\n",
    "    'uid': [1, 1, 1, 2, 2, 2, 3, 3, 3, 4, 4, 4],\n",
    "    'x1': [1, 2, 3, 4, 5, 6, 7, 8, 9, 10, 11, 12],\n",
    "    'x2': [1, 2, 3, 4, 5, 6, 7, 8, 9, 10, 11, 12],\n",
    "    'y': [10, 20, 30, 40, 50, 60, 70, 80, 90, 100, 110, 120],\n",
    "    'z': [100, 200, 300, 400, 500, 600, 700, 800, 900, 1000, 1100, 1200]\n",
    "})"
   ]
  },
  {
   "cell_type": "code",
   "execution_count": 90,
   "metadata": {},
   "outputs": [],
   "source": [
    "arr = df.values.reshape((4, 3, 5))"
   ]
  },
  {
   "cell_type": "code",
   "execution_count": 91,
   "metadata": {},
   "outputs": [
    {
     "data": {
      "text/plain": [
       "array([[[   1,    1,    1,   10,  100],\n",
       "        [   1,    2,    2,   20,  200],\n",
       "        [   1,    3,    3,   30,  300]],\n",
       "\n",
       "       [[   2,    4,    4,   40,  400],\n",
       "        [   2,    5,    5,   50,  500],\n",
       "        [   2,    6,    6,   60,  600]],\n",
       "\n",
       "       [[   3,    7,    7,   70,  700],\n",
       "        [   3,    8,    8,   80,  800],\n",
       "        [   3,    9,    9,   90,  900]],\n",
       "\n",
       "       [[   4,   10,   10,  100, 1000],\n",
       "        [   4,   11,   11,  110, 1100],\n",
       "        [   4,   12,   12,  120, 1200]]])"
      ]
     },
     "execution_count": 91,
     "metadata": {},
     "output_type": "execute_result"
    }
   ],
   "source": [
    "arr"
   ]
  },
  {
   "cell_type": "code",
   "execution_count": 93,
   "metadata": {},
   "outputs": [
    {
     "data": {
      "text/plain": [
       "array([[ 1,  2,  3],\n",
       "       [ 4,  5,  6],\n",
       "       [ 7,  8,  9],\n",
       "       [10, 11, 12]])"
      ]
     },
     "execution_count": 93,
     "metadata": {},
     "output_type": "execute_result"
    }
   ],
   "source": [
    "arr[:,:,1]"
   ]
  },
  {
   "cell_type": "code",
   "execution_count": 94,
   "metadata": {},
   "outputs": [
    {
     "data": {
      "text/plain": [
       "6.5"
      ]
     },
     "execution_count": 94,
     "metadata": {},
     "output_type": "execute_result"
    }
   ],
   "source": [
    "np.mean(arr[:,:,1])"
   ]
  },
  {
   "cell_type": "code",
   "execution_count": 71,
   "metadata": {},
   "outputs": [
    {
     "data": {
      "text/html": [
       "<div>\n",
       "<style scoped>\n",
       "    .dataframe tbody tr th:only-of-type {\n",
       "        vertical-align: middle;\n",
       "    }\n",
       "\n",
       "    .dataframe tbody tr th {\n",
       "        vertical-align: top;\n",
       "    }\n",
       "\n",
       "    .dataframe thead th {\n",
       "        text-align: right;\n",
       "    }\n",
       "</style>\n",
       "<table border=\"1\" class=\"dataframe\">\n",
       "  <thead>\n",
       "    <tr style=\"text-align: right;\">\n",
       "      <th></th>\n",
       "      <th>uid</th>\n",
       "      <th>x</th>\n",
       "      <th>y</th>\n",
       "      <th>z</th>\n",
       "    </tr>\n",
       "  </thead>\n",
       "  <tbody>\n",
       "    <tr>\n",
       "      <th>0</th>\n",
       "      <td>1</td>\n",
       "      <td>23.000000</td>\n",
       "      <td>230.000000</td>\n",
       "      <td>2300.000000</td>\n",
       "    </tr>\n",
       "    <tr>\n",
       "      <th>1</th>\n",
       "      <td>1</td>\n",
       "      <td>9.547725</td>\n",
       "      <td>95.477251</td>\n",
       "      <td>954.772505</td>\n",
       "    </tr>\n",
       "    <tr>\n",
       "      <th>2</th>\n",
       "      <td>1</td>\n",
       "      <td>4.673430</td>\n",
       "      <td>46.734298</td>\n",
       "      <td>467.342983</td>\n",
       "    </tr>\n",
       "    <tr>\n",
       "      <th>2</th>\n",
       "      <td>2</td>\n",
       "      <td>11.000000</td>\n",
       "      <td>110.000000</td>\n",
       "      <td>1100.000000</td>\n",
       "    </tr>\n",
       "    <tr>\n",
       "      <th>7</th>\n",
       "      <td>2</td>\n",
       "      <td>5.000000</td>\n",
       "      <td>50.000000</td>\n",
       "      <td>500.000000</td>\n",
       "    </tr>\n",
       "    <tr>\n",
       "      <th>4</th>\n",
       "      <td>3</td>\n",
       "      <td>11.000000</td>\n",
       "      <td>110.000000</td>\n",
       "      <td>1100.000000</td>\n",
       "    </tr>\n",
       "    <tr>\n",
       "      <th>5</th>\n",
       "      <td>3</td>\n",
       "      <td>1.000000</td>\n",
       "      <td>10.000000</td>\n",
       "      <td>100.000000</td>\n",
       "    </tr>\n",
       "  </tbody>\n",
       "</table>\n",
       "</div>"
      ],
      "text/plain": [
       "   uid          x           y            z\n",
       "0    1  23.000000  230.000000  2300.000000\n",
       "1    1   9.547725   95.477251   954.772505\n",
       "2    1   4.673430   46.734298   467.342983\n",
       "2    2  11.000000  110.000000  1100.000000\n",
       "7    2   5.000000   50.000000   500.000000\n",
       "4    3  11.000000  110.000000  1100.000000\n",
       "5    3   1.000000   10.000000   100.000000"
      ]
     },
     "execution_count": 71,
     "metadata": {},
     "output_type": "execute_result"
    }
   ],
   "source": [
    "df.groupby('uid')[list('xyz')].apply(lambda df: df.apply(abs_fft)).reset_index('uid')"
   ]
  },
  {
   "cell_type": "code",
   "execution_count": 40,
   "metadata": {},
   "outputs": [],
   "source": [
    "def abs_fft(arr): return np.abs(np.fft.rfft(arr))"
   ]
  },
  {
   "cell_type": "code",
   "execution_count": 73,
   "metadata": {},
   "outputs": [],
   "source": [
    "def zero_mean(x): return x - x.mean()"
   ]
  },
  {
   "cell_type": "code",
   "execution_count": 74,
   "metadata": {},
   "outputs": [],
   "source": [
    "def zscore(x): return (x - x.mean())/x.std()"
   ]
  },
  {
   "cell_type": "code",
   "execution_count": 75,
   "metadata": {},
   "outputs": [],
   "source": [
    "groups = data.groupby('series_id')"
   ]
  },
  {
   "cell_type": "code",
   "execution_count": 76,
   "metadata": {},
   "outputs": [],
   "source": [
    "data[euler_cols] = groups[euler_cols].diff().fillna(0)\n",
    "data[linear_cols] = groups[linear_cols].transform(zero_mean)\n",
    "data[angular_cols] = groups[angular_cols].transform(zero_mean)"
   ]
  },
  {
   "cell_type": "code",
   "execution_count": 101,
   "metadata": {},
   "outputs": [],
   "source": [
    "fft_data = (\n",
    "    groups[linear_cols + angular_cols]\n",
    "    .apply(lambda df: df.apply(abs_fft, axis=0))\n",
    "    .reset_index('series_id'))"
   ]
  },
  {
   "cell_type": "code",
   "execution_count": 96,
   "metadata": {},
   "outputs": [],
   "source": [
    "cols = euler_cols + linear_cols + angular_cols\n",
    "data[cols] = data[cols].apply(zscore, axis=0)"
   ]
  },
  {
   "cell_type": "code",
   "execution_count": 102,
   "metadata": {},
   "outputs": [],
   "source": [
    "cols = linear_cols + angular_cols\n",
    "fft_data[cols] = fft_data[cols].apply(zscore, axis=0)"
   ]
  },
  {
   "cell_type": "code",
   "execution_count": null,
   "metadata": {},
   "outputs": [],
   "source": []
  }
 ],
 "metadata": {
  "kernelspec": {
   "display_name": "Python 3",
   "language": "python",
   "name": "python3"
  },
  "language_info": {
   "codemirror_mode": {
    "name": "ipython",
    "version": 3
   },
   "file_extension": ".py",
   "mimetype": "text/x-python",
   "name": "python",
   "nbconvert_exporter": "python",
   "pygments_lexer": "ipython3",
   "version": "3.7.1"
  },
  "toc": {
   "base_numbering": 1,
   "nav_menu": {},
   "number_sections": true,
   "sideBar": true,
   "skip_h1_title": false,
   "title_cell": "Table of Contents",
   "title_sidebar": "Contents",
   "toc_cell": false,
   "toc_position": {},
   "toc_section_display": true,
   "toc_window_display": false
  }
 },
 "nbformat": 4,
 "nbformat_minor": 2
}
